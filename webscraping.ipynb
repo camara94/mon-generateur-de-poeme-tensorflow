{
 "cells": [
  {
   "cell_type": "markdown",
   "id": "b8daa003",
   "metadata": {},
   "source": [
    "# Web Scraping \n",
    "Ici, je vais faire d'abord du web scraping pour récuperer les poème que j'auurais besoin pour entrainer mon modèle"
   ]
  },
  {
   "cell_type": "markdown",
   "id": "401013d8",
   "metadata": {},
   "source": [
    "## Importatation des packages"
   ]
  },
  {
   "cell_type": "code",
   "execution_count": 2,
   "id": "7fdc9779",
   "metadata": {},
   "outputs": [],
   "source": [
    "import requests as req\n",
    "from bs4 import BeautifulSoup\n",
    "import numpy as np\n",
    "import pandas as pd"
   ]
  },
  {
   "cell_type": "markdown",
   "id": "5ea8b4a6",
   "metadata": {},
   "source": [
    "## Les plus grands classiques de la poésie romantique française\n",
    "\n",
    "![image](images/1.jpg)"
   ]
  },
  {
   "cell_type": "markdown",
   "id": "e7330a3c",
   "metadata": {},
   "source": [
    "## Les URLs des site à scraper\n",
    "\n"
   ]
  },
  {
   "cell_type": "code",
   "execution_count": 28,
   "id": "d16a455c",
   "metadata": {},
   "outputs": [],
   "source": [
    "urls = [\n",
    "    \"https://www.poesie-damour.com/2017/10/poemes-damour-de-nos-plus-grands-poetes.html\",\n",
    "    \"https://www.poesie-damour.com/2018/01/poemes-francais-amour.html\",\n",
    "    \"https://www.poesie-damour.com/2014/01/poeme-pour-la-saint-valentin.html\",\n",
    "    \"https://www.poesie-damour.com/2013/10/messages-damour.html\",\n",
    "    \"https://www.poesie-damour.com/2014/07/songe-dune-nuit-dete.html\",\n",
    "    \"https://www.poesie-damour.com/2019/11/texte-noel-pour-souhaiter-un-joyeux-noel.html\",\n",
    "    \"https://www.poesie-damour.com/2019/03/avant-de-fermer-mon-coeur-mfgobe.html\",\n",
    "    \"https://www.poesie-damour.com/2014/06/mon-amour.html\",\n",
    "    \"https://www.poesie-damour.com/2014/01/je-t-aime.html\",\n",
    "    \"https://www.poesie-damour.com/2019/08/le-sais-tu-mon-amour-mfgobe.html\",\n",
    "    \"https://www.poesie-damour.com/2017/10/poemes-damour-de-nos-plus-grands-poetes.html\",\n",
    "    \"https://www.poesie-damour.com/2019/07/fou-damour.html\",\n",
    "    \"https://www.poesie-damour.com/2014/07/poeme-damitie.html\",\n",
    "    \"https://www.poesie-damour.com/2018/01/poemes-je-taime.html\",\n",
    "    \"https://www.poesie-damour.com/2014/01/dis-moi-que-notre-amour-durera.html\",\n",
    "    \"https://www.poesie-damour.com/2017/06/proverbes-damour.html\"\n",
    "]"
   ]
  },
  {
   "cell_type": "code",
   "execution_count": 29,
   "id": "0a909bde",
   "metadata": {},
   "outputs": [
    {
     "data": {
      "text/plain": [
       "16"
      ]
     },
     "execution_count": 29,
     "metadata": {},
     "output_type": "execute_result"
    }
   ],
   "source": [
    "len(urls)"
   ]
  },
  {
   "cell_type": "code",
   "execution_count": 31,
   "id": "b4c6695f",
   "metadata": {},
   "outputs": [
    {
     "data": {
      "text/plain": [
       "15"
      ]
     },
     "execution_count": 31,
     "metadata": {},
     "output_type": "execute_result"
    }
   ],
   "source": [
    "len(set(urls))"
   ]
  },
  {
   "cell_type": "code",
   "execution_count": 32,
   "id": "42d20946",
   "metadata": {},
   "outputs": [],
   "source": [
    "urls = set(urls)"
   ]
  },
  {
   "cell_type": "code",
   "execution_count": 33,
   "id": "b587d26e",
   "metadata": {},
   "outputs": [],
   "source": [
    "def getPoeme(url):\n",
    "    reponse = req.get(url)\n",
    "    if reponse.ok:\n",
    "        soup = BeautifulSoup(reponse.text)\n",
    "    return soup.find_all('i')\n"
   ]
  },
  {
   "cell_type": "code",
   "execution_count": 34,
   "id": "f23485fa",
   "metadata": {},
   "outputs": [],
   "source": [
    "poemes = [txt.text for url in urls for txt in getPoeme(url) if len(txt.text) > 0 ]\n"
   ]
  },
  {
   "cell_type": "code",
   "execution_count": 35,
   "id": "f3114da4",
   "metadata": {},
   "outputs": [
    {
     "data": {
      "text/plain": [
       "1856"
      ]
     },
     "execution_count": 35,
     "metadata": {},
     "output_type": "execute_result"
    }
   ],
   "source": [
    "len(set(poemes))"
   ]
  },
  {
   "cell_type": "code",
   "execution_count": 37,
   "id": "c66aa07a",
   "metadata": {},
   "outputs": [
    {
     "data": {
      "text/plain": [
       "1919"
      ]
     },
     "execution_count": 37,
     "metadata": {},
     "output_type": "execute_result"
    }
   ],
   "source": [
    "len(poemes)"
   ]
  },
  {
   "cell_type": "code",
   "execution_count": 38,
   "id": "fa2ac664",
   "metadata": {},
   "outputs": [],
   "source": [
    "poemes = set(poemes)"
   ]
  },
  {
   "cell_type": "code",
   "execution_count": 39,
   "id": "986caac5",
   "metadata": {},
   "outputs": [],
   "source": [
    "def getPoeme2(url):\n",
    "    reponse = req.get(url)\n",
    "    if reponse.ok:\n",
    "        soup = BeautifulSoup(reponse.text)\n",
    "    return soup.find_all('div', {'class':'postpoetique'})\n"
   ]
  },
  {
   "cell_type": "code",
   "execution_count": 40,
   "id": "b27ae3a5",
   "metadata": {},
   "outputs": [],
   "source": [
    "urls2 = [\n",
    "    \"https://www.mon-poeme.fr/les-plus-beaux-poemes-damour/\"\n",
    "]\n"
   ]
  },
  {
   "cell_type": "code",
   "execution_count": 43,
   "id": "3d91068b",
   "metadata": {},
   "outputs": [],
   "source": [
    "poemes2 = [txt.text for url in urls2 for txt in getPoeme2(url) if len(txt.text) > 0 ]\n"
   ]
  },
  {
   "cell_type": "code",
   "execution_count": 45,
   "id": "5f72dc69",
   "metadata": {},
   "outputs": [
    {
     "data": {
      "text/plain": [
       "6"
      ]
     },
     "execution_count": 45,
     "metadata": {},
     "output_type": "execute_result"
    }
   ],
   "source": [
    "len(poemes2)"
   ]
  },
  {
   "cell_type": "code",
   "execution_count": 52,
   "id": "fe77bbff",
   "metadata": {},
   "outputs": [],
   "source": [
    "text = \" \".join(poemes)\n",
    "\n",
    "text += \" \".join(poemes2)"
   ]
  },
  {
   "cell_type": "code",
   "execution_count": 124,
   "id": "1a878e64",
   "metadata": {},
   "outputs": [],
   "source": [
    "def getPoeme3(url):\n",
    "    tab = []\n",
    "    reponse = req.get(url)\n",
    "    if reponse.ok:\n",
    "        soup = BeautifulSoup(reponse.text)\n",
    "        tab = soup.find_all('div', {'style':'text-align: center;'})\n",
    "        for tag in soup.find_all('span', {'style':'font-family: \"georgia\" , \"times new roman\" , serif;'}):\n",
    "            tab.append(tag)\n",
    "    return tab\n"
   ]
  },
  {
   "cell_type": "code",
   "execution_count": 128,
   "id": "be5d1fcd",
   "metadata": {},
   "outputs": [],
   "source": [
    "urls3 = [\n",
    "    \"https://www.poesie-damour.com/2013/08/Message-d-amour.html\"\n",
    "]\n"
   ]
  },
  {
   "cell_type": "code",
   "execution_count": 130,
   "id": "ee83b0e2",
   "metadata": {},
   "outputs": [],
   "source": [
    "poemes3 = [txt.text for url in urls3 for txt in getPoeme3(url) if len(txt.text) > 0 ]\n",
    "poemes3 = set(poemes3)\n"
   ]
  },
  {
   "cell_type": "code",
   "execution_count": 131,
   "id": "d6d435ce",
   "metadata": {},
   "outputs": [
    {
     "data": {
      "text/plain": [
       "93"
      ]
     },
     "execution_count": 131,
     "metadata": {},
     "output_type": "execute_result"
    }
   ],
   "source": [
    "len(poemes3)"
   ]
  },
  {
   "cell_type": "code",
   "execution_count": 132,
   "id": "3662bb2f",
   "metadata": {},
   "outputs": [],
   "source": [
    "text += \" \".join(poemes3)\n"
   ]
  },
  {
   "cell_type": "code",
   "execution_count": 145,
   "id": "75bfd94c",
   "metadata": {},
   "outputs": [],
   "source": [
    "def getPoeme4(url):\n",
    "    tab = []\n",
    "    reponse = req.get(url)\n",
    "    if reponse.ok:\n",
    "        soup = BeautifulSoup(reponse.text)\n",
    "        tab = soup.find_all('p')\n",
    "    return tab\n",
    "\n"
   ]
  },
  {
   "cell_type": "code",
   "execution_count": 146,
   "id": "47707d55",
   "metadata": {},
   "outputs": [
    {
     "data": {
      "text/plain": [
       "930"
      ]
     },
     "execution_count": 146,
     "metadata": {},
     "output_type": "execute_result"
    }
   ],
   "source": [
    "len(text.split('\\n'))"
   ]
  },
  {
   "cell_type": "code",
   "execution_count": 147,
   "id": "20773d27",
   "metadata": {},
   "outputs": [
    {
     "data": {
      "text/plain": [
       "93711"
      ]
     },
     "execution_count": 147,
     "metadata": {},
     "output_type": "execute_result"
    }
   ],
   "source": [
    "file = open(\"data/poeme.txt\", \"w\",  encoding='utf-8') \n",
    "file.write(text)"
   ]
  },
  {
   "cell_type": "code",
   "execution_count": null,
   "id": "5d979ba0",
   "metadata": {},
   "outputs": [],
   "source": []
  },
  {
   "cell_type": "code",
   "execution_count": null,
   "id": "b48cb0b9",
   "metadata": {},
   "outputs": [],
   "source": []
  }
 ],
 "metadata": {
  "kernelspec": {
   "display_name": "Python 3",
   "language": "python",
   "name": "python3"
  },
  "language_info": {
   "codemirror_mode": {
    "name": "ipython",
    "version": 3
   },
   "file_extension": ".py",
   "mimetype": "text/x-python",
   "name": "python",
   "nbconvert_exporter": "python",
   "pygments_lexer": "ipython3",
   "version": "3.8.5"
  }
 },
 "nbformat": 4,
 "nbformat_minor": 5
}
